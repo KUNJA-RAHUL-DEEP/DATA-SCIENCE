{
 "cells": [
  {
   "cell_type": "code",
   "execution_count": 1,
   "id": "151d4e5a",
   "metadata": {},
   "outputs": [],
   "source": [
    "import numpy as np\n",
    "from scipy.stats import chi2_contingency"
   ]
  },
  {
   "cell_type": "code",
   "execution_count": 2,
   "id": "a5409fdb",
   "metadata": {},
   "outputs": [],
   "source": [
    "df= np.array([[50, 70],\n",
    "                     [80, 100],\n",
    "                     [60, 90],\n",
    "                     [30, 50],\n",
    "                     [20, 50]])"
   ]
  },
  {
   "cell_type": "code",
   "execution_count": 3,
   "id": "7aa4ed66",
   "metadata": {},
   "outputs": [],
   "source": [
    "#1\n",
    "# Ho : There is no significant association between the type of device and customer satisfaction.\n",
    "# H1 : There is a significant association between the type of device and customer satisfaction."
   ]
  },
  {
   "cell_type": "code",
   "execution_count": 7,
   "id": "c19207e8",
   "metadata": {},
   "outputs": [
    {
     "name": "stdout",
     "output_type": "stream",
     "text": [
      "Chi-Square Statistic: 5.638227513227513\n"
     ]
    }
   ],
   "source": [
    "#2\n",
    "chi2_stat, p_val, dof, expected = chi2_contingency(df)\n",
    "print(\"Chi-Square Statistic:\", chi2_stat)"
   ]
  },
  {
   "cell_type": "code",
   "execution_count": 8,
   "id": "1d7619cc",
   "metadata": {},
   "outputs": [
    {
     "name": "stdout",
     "output_type": "stream",
     "text": [
      "Critical Value: 0.22784371130697179\n"
     ]
    }
   ],
   "source": [
    "#3\n",
    "alpha = 0.05\n",
    "critical_value = chi2_contingency(df)[1]\n",
    "print(\"Critical Value:\", critical_value)"
   ]
  },
  {
   "cell_type": "code",
   "execution_count": 9,
   "id": "d76bd7af",
   "metadata": {},
   "outputs": [
    {
     "name": "stdout",
     "output_type": "stream",
     "text": [
      "Decision: Reject the null hypothesis\n"
     ]
    }
   ],
   "source": [
    "#4\n",
    "if chi2_stat > critical_value:\n",
    "    decision = \"Reject the null hypothesis\"\n",
    "else:\n",
    "    decision = \"Fail to reject the null hypothesis\"\n",
    "\n",
    "print(\"Decision:\", decision)"
   ]
  },
  {
   "cell_type": "code",
   "execution_count": 10,
   "id": "dff04e01",
   "metadata": {},
   "outputs": [],
   "source": [
    "# So, there is a significant association between the type of device and customer satisfaction."
   ]
  },
  {
   "cell_type": "code",
   "execution_count": null,
   "id": "ff827103",
   "metadata": {},
   "outputs": [],
   "source": []
  }
 ],
 "metadata": {
  "kernelspec": {
   "display_name": "Python 3 (ipykernel)",
   "language": "python",
   "name": "python3"
  },
  "language_info": {
   "codemirror_mode": {
    "name": "ipython",
    "version": 3
   },
   "file_extension": ".py",
   "mimetype": "text/x-python",
   "name": "python",
   "nbconvert_exporter": "python",
   "pygments_lexer": "ipython3",
   "version": "3.11.5"
  }
 },
 "nbformat": 4,
 "nbformat_minor": 5
}
