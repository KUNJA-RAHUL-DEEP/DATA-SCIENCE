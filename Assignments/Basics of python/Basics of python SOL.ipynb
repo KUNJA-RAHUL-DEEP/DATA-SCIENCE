{
 "cells": [
  {
   "cell_type": "code",
   "execution_count": 1,
   "id": "96c24651",
   "metadata": {},
   "outputs": [],
   "source": [
    "### EXERCISE 1\n",
    "def is_prime(num):\n",
    "    if num <= 1:\n",
    "        return False\n",
    "    elif num == 2:\n",
    "        return True\n",
    "    elif num % 2 == 0:\n",
    "        return False\n",
    "    else:\n",
    "        for i in range(3, int(num**0.5) + 1, 2):\n",
    "            if num % i == 0:\n",
    "                return False\n",
    "        return True"
   ]
  },
  {
   "cell_type": "code",
   "execution_count": 2,
   "id": "afc7b987",
   "metadata": {},
   "outputs": [
    {
     "name": "stdout",
     "output_type": "stream",
     "text": [
      "1345 is not a prime number\n"
     ]
    }
   ],
   "source": [
    "number =1345\n",
    "if is_prime(number):\n",
    "    print(number, \"is a prime number\")\n",
    "else:\n",
    "    print(number, \"is not a prime number\")\n"
   ]
  },
  {
   "cell_type": "code",
   "execution_count": 3,
   "id": "97205c47",
   "metadata": {},
   "outputs": [
    {
     "name": "stdout",
     "output_type": "stream",
     "text": [
      "463 is a prime number\n"
     ]
    }
   ],
   "source": [
    "number =463\n",
    "if is_prime(number):\n",
    "    print(number, \"is a prime number\")\n",
    "else:\n",
    "    print(number, \"is not a prime number\")"
   ]
  },
  {
   "cell_type": "code",
   "execution_count": 7,
   "id": "85b15ccc",
   "metadata": {},
   "outputs": [
    {
     "name": "stdout",
     "output_type": "stream",
     "text": [
      "What is the product of 83 and 81? 528992\n",
      "Sorry, your answer is incorrect. The correct answer is 6723.\n"
     ]
    }
   ],
   "source": [
    "### EXERCISE 2\n",
    "import random\n",
    "\n",
    "num1 = random.randint(1, 100)\n",
    "num2 = random.randint(1, 100)\n",
    "\n",
    "product = int(input(\"What is the product of \" + str(num1) + \" and \" + str(num2) + \"? \"))\n",
    "\n",
    "if product == num1 * num2:\n",
    "    print(\"Congratulations! Your answer is correct.\")\n",
    "else:\n",
    "    print(\"Sorry, your answer is incorrect. The correct answer is \" + str(num1 * num2) + \".\")"
   ]
  },
  {
   "cell_type": "code",
   "execution_count": 11,
   "id": "4b1b5400",
   "metadata": {},
   "outputs": [
    {
     "name": "stdout",
     "output_type": "stream",
     "text": [
      "10000\n",
      "10404\n",
      "10816\n",
      "11236\n",
      "11664\n",
      "12100\n",
      "12544\n",
      "12996\n",
      "13456\n",
      "13924\n",
      "14400\n",
      "14884\n",
      "15376\n",
      "15876\n",
      "16384\n",
      "16900\n",
      "17424\n",
      "17956\n",
      "18496\n",
      "19044\n",
      "19600\n",
      "20164\n",
      "20736\n",
      "21316\n",
      "21904\n",
      "22500\n",
      "23104\n",
      "23716\n",
      "24336\n",
      "24964\n",
      "25600\n",
      "26244\n",
      "26896\n",
      "27556\n",
      "28224\n",
      "28900\n",
      "29584\n",
      "30276\n",
      "30976\n",
      "31684\n",
      "32400\n",
      "33124\n",
      "33856\n",
      "34596\n",
      "35344\n",
      "36100\n",
      "36864\n",
      "37636\n",
      "38416\n",
      "39204\n",
      "40000\n"
     ]
    }
   ],
   "source": [
    "### EXCERCISE 3\n",
    "\n",
    "# For Even numbers\n",
    "for i in range(100, 201, 2):\n",
    "    print(i**2)"
   ]
  },
  {
   "cell_type": "code",
   "execution_count": 10,
   "id": "393e3ef6",
   "metadata": {},
   "outputs": [
    {
     "name": "stdout",
     "output_type": "stream",
     "text": [
      "10201\n",
      "10609\n",
      "11025\n",
      "11449\n",
      "11881\n",
      "12321\n",
      "12769\n",
      "13225\n",
      "13689\n",
      "14161\n",
      "14641\n",
      "15129\n",
      "15625\n",
      "16129\n",
      "16641\n",
      "17161\n",
      "17689\n",
      "18225\n",
      "18769\n",
      "19321\n",
      "19881\n",
      "20449\n",
      "21025\n",
      "21609\n",
      "22201\n",
      "22801\n",
      "23409\n",
      "24025\n",
      "24649\n",
      "25281\n",
      "25921\n",
      "26569\n",
      "27225\n",
      "27889\n",
      "28561\n",
      "29241\n",
      "29929\n",
      "30625\n",
      "31329\n",
      "32041\n",
      "32761\n",
      "33489\n",
      "34225\n",
      "34969\n",
      "35721\n",
      "36481\n",
      "37249\n",
      "38025\n",
      "38809\n",
      "39601\n"
     ]
    }
   ],
   "source": [
    "# For Odd numbers\n",
    "for i in range(101, 200, 2):\n",
    "    print(i**2)"
   ]
  },
  {
   "cell_type": "code",
   "execution_count": 13,
   "id": "829f46a3",
   "metadata": {},
   "outputs": [],
   "source": [
    "### Exercise 4\n",
    "def count_words(input_text):\n",
    "  words = input_text.split()\n",
    "  word_counts = {}\n",
    "  for word in words:\n",
    "    if word in word_counts:\n",
    "      word_counts[word] += 1\n",
    "    else:\n",
    "      word_counts[word] = 1\n",
    "  return word_counts"
   ]
  },
  {
   "cell_type": "code",
   "execution_count": 14,
   "id": "9a910db5",
   "metadata": {},
   "outputs": [
    {
     "name": "stdout",
     "output_type": "stream",
     "text": [
      "'She': 1\n",
      "'is': 1\n",
      "'more': 1\n",
      "'beautiful,': 1\n",
      "'i': 1\n",
      "'think': 1\n",
      "'so': 1\n",
      "'she': 1\n",
      "'will': 1\n",
      "'become': 1\n",
      "'an': 1\n",
      "'actor': 1\n"
     ]
    }
   ],
   "source": [
    "input_text = \"She is more beautiful, i think so she will become an actor \"\n",
    "word_counts = count_words(input_text)\n",
    "for word, count in word_counts.items():\n",
    "  print(f\"'{word}': {count}\")"
   ]
  },
  {
   "cell_type": "code",
   "execution_count": 15,
   "id": "0e6a3829",
   "metadata": {},
   "outputs": [],
   "source": [
    "### EXCERCISE 5\n",
    "def is_palindrome(input_string):\n",
    "    input_string = input_string.lower().replace(\" \", \"\").replace(\",\", \"\").replace(\".\", \"\")\n",
    "    reversed_string = input_string[::-1]\n",
    "    return input_string == reversed_string"
   ]
  },
  {
   "cell_type": "code",
   "execution_count": 16,
   "id": "e1f2a36e",
   "metadata": {},
   "outputs": [
    {
     "name": "stdout",
     "output_type": "stream",
     "text": [
      "'refer' is a palindrome.\n"
     ]
    }
   ],
   "source": [
    "input_string = \"refer\"\n",
    "if is_palindrome(input_string):\n",
    "  print(f\"'{input_string}' is a palindrome.\")\n",
    "else:\n",
    "  print(f\"'{input_string}' is not a palindrome.\")"
   ]
  },
  {
   "cell_type": "code",
   "execution_count": 17,
   "id": "a07c2d2c",
   "metadata": {},
   "outputs": [
    {
     "name": "stdout",
     "output_type": "stream",
     "text": [
      "'level' is a palindrome.\n"
     ]
    }
   ],
   "source": [
    "input_string = \"level\"\n",
    "if is_palindrome(input_string):\n",
    "  print(f\"'{input_string}' is a palindrome.\")\n",
    "else:\n",
    "  print(f\"'{input_string}' is not a palindrome.\")"
   ]
  },
  {
   "cell_type": "code",
   "execution_count": 18,
   "id": "78d555ba",
   "metadata": {},
   "outputs": [
    {
     "name": "stdout",
     "output_type": "stream",
     "text": [
      "'System' is not a palindrome.\n"
     ]
    }
   ],
   "source": [
    "input_string = \"System\"\n",
    "if is_palindrome(input_string):\n",
    "  print(f\"'{input_string}' is a palindrome.\")\n",
    "else:\n",
    "  print(f\"'{input_string}' is not a palindrome.\")"
   ]
  },
  {
   "cell_type": "code",
   "execution_count": null,
   "id": "0a00affb",
   "metadata": {},
   "outputs": [],
   "source": []
  }
 ],
 "metadata": {
  "kernelspec": {
   "display_name": "Python 3 (ipykernel)",
   "language": "python",
   "name": "python3"
  },
  "language_info": {
   "codemirror_mode": {
    "name": "ipython",
    "version": 3
   },
   "file_extension": ".py",
   "mimetype": "text/x-python",
   "name": "python",
   "nbconvert_exporter": "python",
   "pygments_lexer": "ipython3",
   "version": "3.11.5"
  }
 },
 "nbformat": 4,
 "nbformat_minor": 5
}
